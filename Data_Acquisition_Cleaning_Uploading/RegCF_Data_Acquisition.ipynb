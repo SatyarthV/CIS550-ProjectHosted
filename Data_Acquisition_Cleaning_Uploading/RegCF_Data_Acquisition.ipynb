{
  "nbformat": 4,
  "nbformat_minor": 0,
  "metadata": {
    "colab": {
      "name": "Merge&CleanFormCF.ipynb",
      "provenance": []
    },
    "kernelspec": {
      "name": "python3",
      "display_name": "Python 3"
    }
  },
  "cells": [
    {
      "cell_type": "code",
      "metadata": {
        "id": "oa4AeuhlU_R-"
      },
      "source": [
        "#Merge and clean all Form D Offerings (Q1 2008 to Q3 2020)\n",
        "#https://www.sec.gov/dera/data/form-d \n"
      ],
      "execution_count": null,
      "outputs": []
    },
    {
      "cell_type": "code",
      "metadata": {
        "id": "MoUY0lszWPg9"
      },
      "source": [
        "import os\n",
        "import pandas as pd\n"
      ],
      "execution_count": null,
      "outputs": []
    },
    {
      "cell_type": "code",
      "metadata": {
        "id": "m4QjZNHOVzgj",
        "colab": {
          "base_uri": "https://localhost:8080/"
        },
        "outputId": "5654c4a5-a18e-46d9-e593-7aa1932365ad"
      },
      "source": [
        "#Navigate to the folder with all the files \n",
        "from google.colab import drive\n",
        "drive.mount('/content/drive')\n",
        "os.chdir(\"drive/My Drive/Reg_CF_Aggregation\")\n"
      ],
      "execution_count": null,
      "outputs": [
        {
          "output_type": "stream",
          "text": [
            "Mounted at /content/drive\n"
          ],
          "name": "stdout"
        }
      ]
    },
    {
      "cell_type": "code",
      "metadata": {
        "id": "QhyWuqffWibL",
        "colab": {
          "base_uri": "https://localhost:8080/"
        },
        "outputId": "27ac0d31-a7a6-4232-9e05-0367a0de688a"
      },
      "source": [
        "# os.listdir()\n",
        "print('Hi')"
      ],
      "execution_count": null,
      "outputs": [
        {
          "output_type": "stream",
          "text": [
            "Hi\n"
          ],
          "name": "stdout"
        }
      ]
    },
    {
      "cell_type": "code",
      "metadata": {
        "id": "OmiPa530cIsJ"
      },
      "source": [
        "all_original_sources = [\n",
        "  'https://www.sec.gov/files/dera/data/crowdfunding-offerings-data-sets/2016q2_cf.zip',\n",
        "  'https://www.sec.gov/files/dera/data/crowdfunding-offerings-data-sets/2016q3_cf.zip',\n",
        "  'https://www.sec.gov/files/dera/data/crowdfunding-offerings-data-sets/2016q4_cf.zip',\n",
        "  'https://www.sec.gov/files/dera/data/crowdfunding-offerings-data-sets/2017q1_cf.zip',\n",
        "  'https://www.sec.gov/files/dera/data/crowdfunding-offerings-data-sets/2017q2_cf.zip',\n",
        "  'https://www.sec.gov/files/dera/data/crowdfunding-offerings-data-sets/2017q3_cf.zip',\n",
        "  'https://www.sec.gov/files/dera/data/crowdfunding-offerings-data-sets/2017q4_cf.zip',\n",
        "  'https://www.sec.gov/files/dera/data/crowdfunding-offerings-data-sets/2018q1_cf.zip',\n",
        "  'https://www.sec.gov/files/dera/data/crowdfunding-offerings-data-sets/2018q2_cf.zip',\n",
        "  'https://www.sec.gov/files/dera/data/crowdfunding-offerings-data-sets/2018q3_cf.zip',\n",
        "  'https://www.sec.gov/files/dera/data/crowdfunding-offerings-data-sets/2018q4_cf.zip',\n",
        "  'https://www.sec.gov/files/dera/data/crowdfunding-offerings-data-sets/2019q1_cf.zip',\n",
        "  'https://www.sec.gov/files/dera/data/crowdfunding-offerings-data-sets/2019q2_cf.zip',\n",
        "  'https://www.sec.gov/files/dera/data/crowdfunding-offerings-data-sets/2019q3_cf.zip',\n",
        "  'https://www.sec.gov/files/dera/data/crowdfunding-offerings-data-sets/2019q4_cf.zip',\n",
        "  'https://www.sec.gov/files/dera/data/crowdfunding-offerings-data-sets/2020q1_cf.zip',\n",
        "  'https://www.sec.gov/files/dera/data/crowdfunding-offerings-data-sets/2020q2_cf.zip',\n",
        "  'https://www.sec.gov/files/dera/data/crowdfunding-offerings-data-sets/2020q3_cf.zip'\n",
        "]\n",
        "\n",
        " "
      ],
      "execution_count": null,
      "outputs": []
    },
    {
      "cell_type": "code",
      "metadata": {
        "id": "UCYpsx8_2MM9"
      },
      "source": [
        "for link in all_original_sources:\n",
        "  os.system('wget ' + link )\n",
        "  print(f'Just downloading {link}')\n"
      ],
      "execution_count": null,
      "outputs": []
    },
    {
      "cell_type": "code",
      "metadata": {
        "id": "_HDuxqTz3r2s"
      },
      "source": [
        "for link in all_original_sources:\n",
        "  fileName = link.split('/')[-1]\n",
        "  print(fileName)\n",
        "  os.system('unzip ' + fileName )\n",
        "  print(f'Successfully unzipped {fileName} ')"
      ],
      "execution_count": null,
      "outputs": []
    },
    {
      "cell_type": "code",
      "metadata": {
        "id": "VkVFSwMvUSDp",
        "colab": {
          "base_uri": "https://localhost:8080/"
        },
        "outputId": "06fdd37f-4fbb-42ca-cbf6-3175329e7946"
      },
      "source": [
        "#Get all the quarterly report names. Note there are some idiosyncrasies. Hence we need this.\n",
        "period_files = []\n",
        "for link in all_original_sources:\n",
        "  fileName = link.split('/')[-1]\n",
        "  subName = fileName.split('.')[0]\n",
        "  #Switching to Q because when the file unzips it becomes uppercase Q. Also _0 disappears\n",
        "  subName = subName.replace('q','Q').replace('_0','')\n",
        "  period_files.append(subName)\n",
        "print(period_files)\n",
        "print(len(period_files)) #Usual sanity check. This is correct here "
      ],
      "execution_count": null,
      "outputs": [
        {
          "output_type": "stream",
          "text": [
            "['2016Q2_cf', '2016Q3_cf', '2016Q4_cf', '2017Q1_cf', '2017Q2_cf', '2017Q3_cf', '2017Q4_cf', '2018Q1_cf', '2018Q2_cf', '2018Q3_cf', '2018Q4_cf', '2019Q1_cf', '2019Q2_cf', '2019Q3_cf', '2019Q4_cf', '2020Q1_cf', '2020Q2_cf', '2020Q3_cf']\n",
            "18\n"
          ],
          "name": "stdout"
        }
      ]
    },
    {
      "cell_type": "code",
      "metadata": {
        "id": "ayq80ClBT2an"
      },
      "source": [
        "types_to_merge = ['FORM_C_ISSUER_JURISDICTIONS','FORM_C_ISSUER_SIGNATURE','FORM_C_ISSUER_INFORMATION','FORM_C_DISCLOSURE','FORM_C_SIGNATURE','FORM_C_SUBMISSION']"
      ],
      "execution_count": null,
      "outputs": []
    },
    {
      "cell_type": "code",
      "metadata": {
        "id": "00YsPtQ0VSWJ",
        "colab": {
          "base_uri": "https://localhost:8080/"
        },
        "outputId": "6b2bd01c-db88-4ae9-c536-c3f0603cdf48"
      },
      "source": [
        "# no_files = ['2016Q2_cf/FORM_C_SUBMSSION.tsv'] #Insert if there aren't files for that quarter\n",
        "no_files = []\n",
        "results = []\n",
        "for doc_type in types_to_merge:\n",
        "  print(doc_type)\n",
        "  for i in range(len(period_files)):\n",
        "    path = f'{period_files[i]}/{doc_type}.tsv'\n",
        "    if i == 0:\n",
        "      df_main = pd.read_csv(path, sep='\\t')\n",
        "    else:\n",
        "      if path in no_files:\n",
        "        print(f'Can\\'t find anything for {path}')\n",
        "        continue\n",
        "      else: \n",
        "        df_new = pd.read_csv(path, sep='\\t', skiprows=0)\n",
        "        df_main = df_main.append(df_new)\n",
        "  results.append(df_main)"
      ],
      "execution_count": null,
      "outputs": [
        {
          "output_type": "stream",
          "text": [
            "FORM_C_ISSUER_JURISDICTIONS\n",
            "FORM_C_ISSUER_SIGNATURE\n",
            "FORM_C_ISSUER_INFORMATION\n",
            "FORM_C_DISCLOSURE\n",
            "FORM_C_SIGNATURE\n",
            "FORM_C_SUBMISSION\n"
          ],
          "name": "stdout"
        }
      ]
    },
    {
      "cell_type": "code",
      "metadata": {
        "id": "eoQp0BNubKOv"
      },
      "source": [
        "#Separate Dataframes with combined Data \n",
        "combined_issuer_jurisdiction = results[0]\n",
        "combined_issues_signature = results[1]\n",
        "combined_issuer_information = results[2]\n",
        "combined_disclosure = results[3]\n",
        "combined_signatures = results[4]\n",
        "combined_submission = results[5]"
      ],
      "execution_count": null,
      "outputs": []
    },
    {
      "cell_type": "code",
      "metadata": {
        "id": "rVqW1tp53ggL"
      },
      "source": [
        "print(os.getcwd()) "
      ],
      "execution_count": null,
      "outputs": []
    },
    {
      "cell_type": "code",
      "metadata": {
        "id": "afy8Dhf73CxU"
      },
      "source": [
        "combined_issuer_jurisdiction = results[0]\n",
        "combined_issues_signature = results[1]\n",
        "combined_issuer_information = results[2]\n",
        "combined_disclosure = results[3]\n",
        "combined_signatures = results[4]\n",
        "combined_submission = results[5]\n",
        "\n",
        "combined_issuer_jurisdiction.to_csv('cf_combined_issuer_jurisdiction.csv', index = False, header=True)\n",
        "combined_issues_signature.to_csv('cf_combined_issues_signature.csv', index = False, header=True)\n",
        "combined_issuer_information.to_csv('cf_combined_issuer_information.csv', index = False, header=True)\n",
        "combined_disclosure.to_csv('cf_combined_disclosure.csv', index = False, header=True)\n",
        "combined_signatures.to_csv('cf_combined_signatures.csv', index = False, header=True)\n",
        "combined_submission.to_csv('cf_combined_form_submission.csv', index = False, header=True)"
      ],
      "execution_count": null,
      "outputs": []
    },
    {
      "cell_type": "code",
      "metadata": {
        "id": "-55vgVM2fHoq"
      },
      "source": [
        "\n"
      ],
      "execution_count": null,
      "outputs": []
    }
  ]
}