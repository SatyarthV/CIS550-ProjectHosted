{
  "nbformat": 4,
  "nbformat_minor": 0,
  "metadata": {
    "colab": {
      "name": "Merge&CleanFormD.ipynb",
      "provenance": []
    },
    "kernelspec": {
      "name": "python3",
      "display_name": "Python 3"
    }
  },
  "cells": [
    {
      "cell_type": "code",
      "metadata": {
        "id": "oa4AeuhlU_R-"
      },
      "source": [
        "#Merge and clean all Form D Offerings (Q1 2008 to Q3 2020)\n",
        "#https://www.sec.gov/dera/data/form-d \n"
      ],
      "execution_count": null,
      "outputs": []
    },
    {
      "cell_type": "code",
      "metadata": {
        "id": "MoUY0lszWPg9"
      },
      "source": [
        "import os\n",
        "import pandas as pd\n"
      ],
      "execution_count": null,
      "outputs": []
    },
    {
      "cell_type": "code",
      "metadata": {
        "id": "m4QjZNHOVzgj",
        "colab": {
          "base_uri": "https://localhost:8080/"
        },
        "outputId": "58c673c4-778e-44b9-c877-acc087b806a4"
      },
      "source": [
        "#Navigate to the folder with all the files \n",
        "from google.colab import drive\n",
        "drive.mount('/content/drive')\n",
        "os.chdir(\"drive/My Drive/Reg_D_Aggregation\")\n"
      ],
      "execution_count": null,
      "outputs": [
        {
          "output_type": "stream",
          "text": [
            "Drive already mounted at /content/drive; to attempt to forcibly remount, call drive.mount(\"/content/drive\", force_remount=True).\n"
          ],
          "name": "stdout"
        }
      ]
    },
    {
      "cell_type": "code",
      "metadata": {
        "id": "QhyWuqffWibL"
      },
      "source": [
        "os.listdir()"
      ],
      "execution_count": null,
      "outputs": []
    },
    {
      "cell_type": "code",
      "metadata": {
        "id": "OmiPa530cIsJ"
      },
      "source": [
        "all_original_sources = [\n",
        "  'https://www.sec.gov/files/structureddata/data/form-d-data-sets/2008q1_d.zip',\n",
        "  'https://www.sec.gov/files/structureddata/data/form-d-data-sets/2008q2_d_0.zip',\n",
        "  'https://www.sec.gov/files/structureddata/data/form-d-data-sets/2008q3_d_0.zip',\n",
        "  'https://www.sec.gov/files/structureddata/data/form-d-data-sets/2008q4_d_0.zip',\n",
        "  'https://www.sec.gov/files/structureddata/data/form-d-data-sets/2009q1_d_0.zip',\n",
        "  'https://www.sec.gov/files/structureddata/data/form-d-data-sets/2009q2_d_0.zip',\n",
        "  'https://www.sec.gov/files/structureddata/data/form-d-data-sets/2009q3_d_0.zip',\n",
        "  'https://www.sec.gov/files/structureddata/data/form-d-data-sets/2009q4_d_0.zip',\n",
        "  'https://www.sec.gov/files/structureddata/data/form-d-data-sets/2010q1_d_0.zip',\n",
        "  'https://www.sec.gov/files/structureddata/data/form-d-data-sets/2010q2_d_0.zip',\n",
        "  'https://www.sec.gov/files/structureddata/data/form-d-data-sets/2010q3_d_0.zip',\n",
        "  'https://www.sec.gov/files/structureddata/data/form-d-data-sets/2010q4_d_0.zip',\n",
        "  'https://www.sec.gov/files/structureddata/data/form-d-data-sets/2011q1_d_0.zip',\n",
        "  'https://www.sec.gov/files/structureddata/data/form-d-data-sets/2011q2_d_0.zip',\n",
        "  'https://www.sec.gov/files/structureddata/data/form-d-data-sets/2011q3_d_0.zip',\n",
        "  'https://www.sec.gov/files/structureddata/data/form-d-data-sets/2011q4_d_0.zip',\n",
        "  'https://www.sec.gov/files/structureddata/data/form-d-data-sets/2012q1_d.zip',\n",
        "  'https://www.sec.gov/files/structureddata/data/form-d-data-sets/2012q2_d_0.zip',\n",
        "  'https://www.sec.gov/files/structureddata/data/form-d-data-sets/2012q3_d_0.zip',\n",
        "  'https://www.sec.gov/files/structureddata/data/form-d-data-sets/2012q4_d_0.zip',\n",
        "  'https://www.sec.gov/files/structureddata/data/form-d-data-sets/2013q1_d_0.zip',\n",
        "  'https://www.sec.gov/files/structureddata/data/form-d-data-sets/2013q2_d_0.zip',\n",
        "  'https://www.sec.gov/files/structureddata/data/form-d-data-sets/2013q3_d_0.zip',\n",
        "  'https://www.sec.gov/files/structureddata/data/form-d-data-sets/2013q4_d_0.zip',\n",
        "  'https://www.sec.gov/files/structureddata/data/form-d-data-sets/2014q1_d.zip',\n",
        "  'https://www.sec.gov/files/structureddata/data/form-d-data-sets/2014q2_d.zip',\n",
        "  'https://www.sec.gov/files/structureddata/data/form-d-data-sets/2014q3_d.zip',\n",
        "  'https://www.sec.gov/files/structureddata/data/form-d-data-sets/2014q4_d.zip',\n",
        "  'https://www.sec.gov/files/structureddata/data/form-d-data-sets/2015q1_d.zip',\n",
        "  'https://www.sec.gov/files/structureddata/data/form-d-data-sets/2015q2_d.zip',\n",
        "  'https://www.sec.gov/files/structureddata/data/form-d-data-sets/2015q3_d.zip',\n",
        "  'https://www.sec.gov/files/structureddata/data/form-d-data-sets/2015q4_d.zip',\n",
        "  'https://www.sec.gov/files/structureddata/data/form-d-data-sets/2016q1_d.zip',\n",
        "  'https://www.sec.gov/files/structureddata/data/form-d-data-sets/2016q2_d.zip',\n",
        "  'https://www.sec.gov/files/structureddata/data/form-d-data-sets/2016q3_d.zip',\n",
        "  'https://www.sec.gov/files/structureddata/data/form-d-data-sets/2016q4_d.zip',\n",
        "  'https://www.sec.gov/files/structureddata/data/form-d-data-sets/2017q1_d.zip',\n",
        "  'https://www.sec.gov/files/structureddata/data/form-d-data-sets/2017q2_d.zip',\n",
        "  'https://www.sec.gov/files/structureddata/data/form-d-data-sets/2017q3_d.zip',\n",
        "  'https://www.sec.gov/files/structureddata/data/form-d-data-sets/2017q4_d.zip',\n",
        "  'https://www.sec.gov/files/structureddata/data/form-d-data-sets/2018q1_d.zip',\n",
        "  'https://www.sec.gov/files/structureddata/data/form-d-data-sets/2018q2_d.zip',\n",
        "  'https://www.sec.gov/files/structureddata/data/form-d-data-sets/2018q3_d.zip',\n",
        "  'https://www.sec.gov/files/structureddata/data/form-d-data-sets/2018q4_d.zip',\n",
        "  'https://www.sec.gov/files/structureddata/data/form-d-data-sets/2019q1_d.zip',\n",
        "  'https://www.sec.gov/files/structureddata/data/form-d-data-sets/2019q2_d.zip',\n",
        "  'https://www.sec.gov/files/structureddata/data/form-d-data-sets/2019q3_d.zip',\n",
        "  'https://www.sec.gov/files/structureddata/data/form-d-data-sets/2019q4_d.zip',\n",
        "  'https://www.sec.gov/files/node/add/data_distribution/2020Q1_d.zip',\n",
        "  'https://www.sec.gov/files/structureddata/data/form-d-data-sets/2020q2_d.zip',\n",
        "  'https://www.sec.gov/files/structureddata/data/form-d-data-sets/2020q3_d.zip'\n",
        "]\n",
        "\n",
        " "
      ],
      "execution_count": null,
      "outputs": []
    },
    {
      "cell_type": "code",
      "metadata": {
        "id": "UCYpsx8_2MM9"
      },
      "source": [
        "for link in all_original_sources:\n",
        "  os.system('wget ' + link )\n",
        "  print(f'Just downloading {link}')\n"
      ],
      "execution_count": null,
      "outputs": []
    },
    {
      "cell_type": "code",
      "metadata": {
        "id": "_HDuxqTz3r2s"
      },
      "source": [
        "for link in all_original_sources:\n",
        "  fileName = link.split('/')[-1]\n",
        "  os.system('unzip ' + fileName )\n",
        "  print(f'Successfully unzipped {fileName} ')\n"
      ],
      "execution_count": null,
      "outputs": []
    },
    {
      "cell_type": "code",
      "metadata": {
        "id": "VkVFSwMvUSDp",
        "colab": {
          "base_uri": "https://localhost:8080/"
        },
        "outputId": "b16a5cb7-1f10-4d59-c9d2-211916c3203f"
      },
      "source": [
        "#Get all the quarterly report names. Note there are some idiosyncrasies. Hence we need this.\n",
        "period_files = []\n",
        "for link in all_original_sources:\n",
        "  fileName = link.split('/')[-1]\n",
        "  subName = fileName.split('.')[0]\n",
        "  #Switching to Q because when the file unzips it becomes uppercase Q. Also _0 disappears\n",
        "  subName = subName.replace('q','Q').replace('_0','')\n",
        "  period_files.append(subName)\n",
        "print(period_files)\n",
        "print(len(period_files)) #Usual sanity check. This is correct here "
      ],
      "execution_count": null,
      "outputs": [
        {
          "output_type": "stream",
          "text": [
            "['2008Q1_d', '2008Q2_d', '2008Q3_d', '2008Q4_d', '2009Q1_d', '2009Q2_d', '2009Q3_d', '2009Q4_d', '2010Q1_d', '2010Q2_d', '2010Q3_d', '2010Q4_d', '2011Q1_d', '2011Q2_d', '2011Q3_d', '2011Q4_d', '2012Q1_d', '2012Q2_d', '2012Q3_d', '2012Q4_d', '2013Q1_d', '2013Q2_d', '2013Q3_d', '2013Q4_d', '2014Q1_d', '2014Q2_d', '2014Q3_d', '2014Q4_d', '2015Q1_d', '2015Q2_d', '2015Q3_d', '2015Q4_d', '2016Q1_d', '2016Q2_d', '2016Q3_d', '2016Q4_d', '2017Q1_d', '2017Q2_d', '2017Q3_d', '2017Q4_d', '2018Q1_d', '2018Q2_d', '2018Q3_d', '2018Q4_d', '2019Q1_d', '2019Q2_d', '2019Q3_d', '2019Q4_d', '2020Q1_d', '2020Q2_d', '2020Q3_d']\n",
            "51\n"
          ],
          "name": "stdout"
        }
      ]
    },
    {
      "cell_type": "code",
      "metadata": {
        "id": "ayq80ClBT2an"
      },
      "source": [
        "types_to_merge = ['RECIPIENTS','OFFERING','ISSUERS', 'RELATEDPERSONS', 'SIGNATURES', 'FORMDSUBMISSION']"
      ],
      "execution_count": null,
      "outputs": []
    },
    {
      "cell_type": "code",
      "metadata": {
        "id": "00YsPtQ0VSWJ",
        "colab": {
          "base_uri": "https://localhost:8080/"
        },
        "outputId": "999d65c3-a48c-4f8f-d642-224c482d5335"
      },
      "source": [
        "no_files = ['2008Q2_d/RECIPIENTS.tsv']\n",
        "for doc_type in types_to_merge:\n",
        "  print(doc_type)\n",
        "  for i in range(len(period_files)):\n",
        "    path = f'{period_files[i]}/{doc_type}.tsv'\n",
        "    if i == 0:\n",
        "      df_main = pd.read_csv(path, sep='\\t')\n",
        "    else:\n",
        "      if path in no_files:\n",
        "        print(f'Can\\'t find anything for {path}')\n",
        "        continue\n",
        "      else: \n",
        "        df_new = pd.read_csv(path, sep='\\t', skiprows=0)\n",
        "        df_main = df_main.append(df_new)\n",
        "  results.append(df_main)"
      ],
      "execution_count": null,
      "outputs": [
        {
          "output_type": "stream",
          "text": [
            "RECIPIENTS\n",
            "Can't find anything for 2008Q2_d/RECIPIENTS.tsv\n",
            "OFFERING\n",
            "ISSUERS\n",
            "RELATEDPERSONS\n",
            "SIGNATURES\n",
            "FORMDSUBMISSION\n"
          ],
          "name": "stdout"
        }
      ]
    },
    {
      "cell_type": "code",
      "metadata": {
        "id": "eoQp0BNubKOv"
      },
      "source": [
        "#Separate Dataframes with combined Data \n",
        "combined_recipients = results[0]\n",
        "combined_offering = results[1]\n",
        "combined_issuers = results[2]\n",
        "combined_relatedpersons = results[3]\n",
        "combined_signatures = results[4]\n",
        "combined_formdsubmission = results[5]"
      ],
      "execution_count": null,
      "outputs": []
    },
    {
      "cell_type": "code",
      "metadata": {
        "id": "rxEV8cE8ctD3",
        "colab": {
          "base_uri": "https://localhost:8080/",
          "height": 657
        },
        "outputId": "675f0524-8624-4d9c-e616-0bd10fbb51ad"
      },
      "source": [
        "combined_signatures"
      ],
      "execution_count": null,
      "outputs": [
        {
          "output_type": "execute_result",
          "data": {
            "text/html": [
              "<div>\n",
              "<style scoped>\n",
              "    .dataframe tbody tr th:only-of-type {\n",
              "        vertical-align: middle;\n",
              "    }\n",
              "\n",
              "    .dataframe tbody tr th {\n",
              "        vertical-align: top;\n",
              "    }\n",
              "\n",
              "    .dataframe thead th {\n",
              "        text-align: right;\n",
              "    }\n",
              "</style>\n",
              "<table border=\"1\" class=\"dataframe\">\n",
              "  <thead>\n",
              "    <tr style=\"text-align: right;\">\n",
              "      <th></th>\n",
              "      <th>ACCESSIONNUMBER</th>\n",
              "      <th>SIGNATURE_SEQ_KEY</th>\n",
              "      <th>ISSUERNAME</th>\n",
              "      <th>SIGNATURENAME</th>\n",
              "      <th>NAMEOFSIGNER</th>\n",
              "      <th>SIGNATURETITLE</th>\n",
              "      <th>SIGNATUREDATE</th>\n",
              "    </tr>\n",
              "  </thead>\n",
              "  <tbody>\n",
              "    <tr>\n",
              "      <th>0</th>\n",
              "      <td>0001477399-09-000001</td>\n",
              "      <td>101</td>\n",
              "      <td>CSA Biotechnology Fund II, LLC</td>\n",
              "      <td>Matthew A. Aiken</td>\n",
              "      <td>Matthew A. Aiken</td>\n",
              "      <td>Authorized Company Signatory by Power of Attorney</td>\n",
              "      <td>2009-11-23</td>\n",
              "    </tr>\n",
              "    <tr>\n",
              "      <th>0</th>\n",
              "      <td>0001192482-09-000126</td>\n",
              "      <td>101</td>\n",
              "      <td>Oppenheimer Global Resource Private Equity Off...</td>\n",
              "      <td>Brian Williamson</td>\n",
              "      <td>Brian Williamson</td>\n",
              "      <td>Managing Director of the General Partner</td>\n",
              "      <td>2008-05-28</td>\n",
              "    </tr>\n",
              "    <tr>\n",
              "      <th>0</th>\n",
              "      <td>0001446406-08-000001</td>\n",
              "      <td>101</td>\n",
              "      <td>Dolce Group Huntsville LLC</td>\n",
              "      <td>Lonnie Moore</td>\n",
              "      <td>Lonnie Moore</td>\n",
              "      <td>Managing Member</td>\n",
              "      <td>2008-09-30</td>\n",
              "    </tr>\n",
              "    <tr>\n",
              "      <th>1</th>\n",
              "      <td>0001446409-08-000001</td>\n",
              "      <td>101</td>\n",
              "      <td>Dolce Group Hollywood Vine LLC</td>\n",
              "      <td>Lonnie Moore</td>\n",
              "      <td>Lonnie Moore</td>\n",
              "      <td>Managing Member</td>\n",
              "      <td>2008-09-30</td>\n",
              "    </tr>\n",
              "    <tr>\n",
              "      <th>2</th>\n",
              "      <td>0001446405-08-000001</td>\n",
              "      <td>101</td>\n",
              "      <td>Geisha House LLC</td>\n",
              "      <td>Lonnie Moore</td>\n",
              "      <td>Lonnie Moore</td>\n",
              "      <td>Managing Member</td>\n",
              "      <td>2008-09-30</td>\n",
              "    </tr>\n",
              "    <tr>\n",
              "      <th>...</th>\n",
              "      <td>...</td>\n",
              "      <td>...</td>\n",
              "      <td>...</td>\n",
              "      <td>...</td>\n",
              "      <td>...</td>\n",
              "      <td>...</td>\n",
              "      <td>...</td>\n",
              "    </tr>\n",
              "    <tr>\n",
              "      <th>10943</th>\n",
              "      <td>0001769335-20-000002</td>\n",
              "      <td>101</td>\n",
              "      <td>Downstream Perennial Master Fund LP</td>\n",
              "      <td>SINEAD HAYES</td>\n",
              "      <td>Sinead Hayes</td>\n",
              "      <td>COO &amp; CFO of the Investment Manager</td>\n",
              "      <td>2020-06-30</td>\n",
              "    </tr>\n",
              "    <tr>\n",
              "      <th>10944</th>\n",
              "      <td>0001769335-20-000003</td>\n",
              "      <td>101</td>\n",
              "      <td>Downstream Perennial Master Fund LP</td>\n",
              "      <td>SINEAD HAYES</td>\n",
              "      <td>Sinead Hayes</td>\n",
              "      <td>COO &amp; CFO of the Investment Manager</td>\n",
              "      <td>2020-06-30</td>\n",
              "    </tr>\n",
              "    <tr>\n",
              "      <th>10945</th>\n",
              "      <td>0001811679-20-000001</td>\n",
              "      <td>101</td>\n",
              "      <td>MVP ES FUND LXXVIII LLC</td>\n",
              "      <td>/s/ WILLIAM CLARK</td>\n",
              "      <td>WILLIAM CLARK</td>\n",
              "      <td>PRESIDENT OF THE MANAGER</td>\n",
              "      <td>2020-06-30</td>\n",
              "    </tr>\n",
              "    <tr>\n",
              "      <th>10946</th>\n",
              "      <td>0001209191-20-039524</td>\n",
              "      <td>101</td>\n",
              "      <td>Strawberry Fields Orndale 28 Opportunity Fund,...</td>\n",
              "      <td>/s/ Patricia Salame</td>\n",
              "      <td>Patricia Salame</td>\n",
              "      <td>Chief Executive Officer of the Managing Member</td>\n",
              "      <td>2020-06-30</td>\n",
              "    </tr>\n",
              "    <tr>\n",
              "      <th>10947</th>\n",
              "      <td>0001571334-20-000004</td>\n",
              "      <td>101</td>\n",
              "      <td>Kayak Investment Partners Offshore Fund, Ltd.</td>\n",
              "      <td>SINEAD HAYES</td>\n",
              "      <td>Sinead Hayes</td>\n",
              "      <td>COO and CFO of the Investment Manager</td>\n",
              "      <td>2020-06-30</td>\n",
              "    </tr>\n",
              "  </tbody>\n",
              "</table>\n",
              "<p>432895 rows × 7 columns</p>\n",
              "</div>"
            ],
            "text/plain": [
              "            ACCESSIONNUMBER  ...  SIGNATUREDATE\n",
              "0      0001477399-09-000001  ...     2009-11-23\n",
              "0      0001192482-09-000126  ...     2008-05-28\n",
              "0      0001446406-08-000001  ...     2008-09-30\n",
              "1      0001446409-08-000001  ...     2008-09-30\n",
              "2      0001446405-08-000001  ...     2008-09-30\n",
              "...                     ...  ...            ...\n",
              "10943  0001769335-20-000002  ...     2020-06-30\n",
              "10944  0001769335-20-000003  ...     2020-06-30\n",
              "10945  0001811679-20-000001  ...     2020-06-30\n",
              "10946  0001209191-20-039524  ...     2020-06-30\n",
              "10947  0001571334-20-000004  ...     2020-06-30\n",
              "\n",
              "[432895 rows x 7 columns]"
            ]
          },
          "metadata": {
            "tags": []
          },
          "execution_count": 62
        }
      ]
    },
    {
      "cell_type": "code",
      "metadata": {
        "id": "-55vgVM2fHoq"
      },
      "source": [
        "print(os.getcwd())\n",
        "\n",
        "#Publish to the Google Driver Folder we are in now\n",
        "combined_recipients.to_csv('combined_recipients.csv', index = False, header=True)\n",
        "combined_offering.to_csv('combined_offering.csv', index = False, header=True)\n",
        "combined_issuers.to_csv('combined_issuers.csv', index = False, header=True)\n",
        "combined_relatedpersons.to_csv('combined_relatedpersons.csv', index = False, header=True)\n",
        "combined_signatures.to_csv('combined_signatures.csv', index = False, header=True)\n",
        "combined_formdsubmission.to_csv('combined_formdsubmission.csv', index = False, header=True)\n"
      ],
      "execution_count": null,
      "outputs": []
    }
  ]
}